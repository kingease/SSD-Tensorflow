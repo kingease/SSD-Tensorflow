{
 "cells": [
  {
   "cell_type": "code",
   "execution_count": null,
   "metadata": {
    "collapsed": true
   },
   "outputs": [],
   "source": [
    "%matplotlib inline"
   ]
  },
  {
   "cell_type": "code",
   "execution_count": null,
   "metadata": {
    "collapsed": true
   },
   "outputs": [],
   "source": [
    "import matplotlib.pyplot as plt\n",
    "\n",
    "import tensorflow as tf\n",
    "import os\n",
    "import cv2\n",
    "\n",
    "import tensorflow.contrib.slim as slim"
   ]
  },
  {
   "cell_type": "code",
   "execution_count": null,
   "metadata": {
    "collapsed": true
   },
   "outputs": [],
   "source": [
    "import sys\n",
    "\n",
    "sys.path.append('../')\n",
    "sys.path.append('../datasets/')\n",
    "sys.path.append('../nets/')\n",
    "sys.path.append('../preprocessing/')\n",
    "\n",
    "import synthtext\n",
    "synthtext_dataset = synthtext.get_split('test', '/home/mobile/data/synthtext/')"
   ]
  },
  {
   "cell_type": "code",
   "execution_count": null,
   "metadata": {
    "collapsed": true
   },
   "outputs": [],
   "source": [
    "import ssd_vgg_512, ssd_common, np_methods"
   ]
  },
  {
   "cell_type": "code",
   "execution_count": null,
   "metadata": {
    "collapsed": true
   },
   "outputs": [],
   "source": [
    "import ssd_vgg_preprocessing"
   ]
  },
  {
   "cell_type": "code",
   "execution_count": null,
   "metadata": {
    "collapsed": true
   },
   "outputs": [],
   "source": [
    "# TensorFlow session: grow memory when needed. TF, DO NOT USE ALL MY GPU MEMORY!!!\n",
    "gpu_options = tf.GPUOptions(allow_growth=True)\n",
    "config = tf.ConfigProto(log_device_placement=False, gpu_options=gpu_options)\n",
    "isess = tf.InteractiveSession(config=config)"
   ]
  },
  {
   "cell_type": "code",
   "execution_count": null,
   "metadata": {
    "scrolled": true
   },
   "outputs": [],
   "source": [
    "net_shape = (512, 512)\n",
    "data_format = 'NHWC'\n",
    "img_input = tf.placeholder(tf.uint8, shape=(None, None, 3))\n",
    "# Evaluation pre-processing: resize to SSD net shape.\n",
    "image_pre, labels_pre, bboxes_pre, bbox_img = ssd_vgg_preprocessing.preprocess_for_eval(\n",
    "    img_input, None, None, net_shape, data_format, resize=ssd_vgg_preprocessing.Resize.WARP_RESIZE)\n",
    "image_4d = tf.expand_dims(image_pre, 0)\n",
    "\n",
    "# Define the SSD model.\n",
    "ssd_params = ssd_vgg_512.SSDNet.default_params._replace(num_classes=2)\n",
    "ssd_net = ssd_vgg_512.SSDNet(ssd_params)\n",
    "with slim.arg_scope(ssd_net.arg_scope(data_format=data_format)):\n",
    "    predictions, localisations, _, _ = ssd_net.net(image_4d, is_training=False, reuse=None)\n",
    "\n",
    "\n",
    "# Restore SSD model.\n",
    "ckpt_filename = '../checkpoints/model.ckpt-104129'\n",
    "isess.run(tf.global_variables_initializer())\n",
    "saver = tf.train.Saver()\n",
    "saver.restore(isess, ckpt_filename)\n",
    "\n",
    "# SSD default anchor boxes.\n",
    "ssd_anchors = ssd_net.anchors(net_shape)"
   ]
  },
  {
   "cell_type": "code",
   "execution_count": null,
   "metadata": {
    "collapsed": true
   },
   "outputs": [],
   "source": [
    "def process_image(img, select_threshold=0.5, nms_threshold=.45, net_shape=(512, 512)):\n",
    "    # Run SSD network.\n",
    "    rimg, rpredictions, rlocalisations, rbbox_img = isess.run([image_4d, predictions, localisations, bbox_img],\n",
    "                                                              feed_dict={img_input: img})\n",
    "    \n",
    "    # Get classes and bboxes from the net outputs.\n",
    "    rclasses, rscores, rbboxes = np_methods.ssd_bboxes_select(\n",
    "            rpredictions, rlocalisations, ssd_anchors,\n",
    "            select_threshold=select_threshold, img_shape=net_shape, num_classes=1, decode=True)\n",
    "    \n",
    "    rbboxes = np_methods.bboxes_clip(rbbox_img, rbboxes)\n",
    "    rclasses, rscores, rbboxes = np_methods.bboxes_sort(rclasses, rscores, rbboxes, top_k=400)\n",
    "    rclasses, rscores, rbboxes = np_methods.bboxes_nms(rclasses, rscores, rbboxes, nms_threshold=nms_threshold)\n",
    "    # Resize bboxes to original image shape. Note: useless for Resize.WARP!\n",
    "    rbboxes = np_methods.bboxes_resize(rbbox_img, rbboxes)\n",
    "    return rclasses, rscores, rbboxes"
   ]
  },
  {
   "cell_type": "code",
   "execution_count": null,
   "metadata": {
    "collapsed": true
   },
   "outputs": [],
   "source": [
    "def collision_of_box(box1, box2):\n",
    "    x11, y11, x12, y12 = box1\n",
    "    x21, y21, x22, y22 = box2\n",
    "    \n",
    "    width1 = x12 - x11\n",
    "    height1 = y12 - y11\n",
    "    \n",
    "    width2 = x22 - x21\n",
    "    height2 = y22 - y21\n",
    "    \n",
    "    union = min(x11, x21), min(y11, y21), max(x12, x22), max(y12, y22)\n",
    "    \n",
    "    \n",
    "    union_width = union[2] - union[0]\n",
    "    union_height = union[3] - union[1]\n",
    "    \n",
    "    return union_width < (width2 + width1) and union_height < (height1 + height2)\n",
    "\n",
    "def group_box_by_collision(boxes, fn_collison):\n",
    "    groups = []\n",
    "\n",
    "    for idx, box in enumerate(boxes):\n",
    "        b_collision = False\n",
    "\n",
    "        insect_g = []\n",
    "        for id_g, group in enumerate(groups):\n",
    "            for i in group:\n",
    "                if(fn_collison(boxes[i], box)):\n",
    "                    group.append(idx)\n",
    "                    insect_g.append(id_g)\n",
    "                    b_collision = True\n",
    "                    break\n",
    "        remain = [i for i in range(len(groups)) if i not in insect_g]\n",
    "\n",
    "        if len(insect_g) > 0:\n",
    "            merges = []\n",
    "            for g in insect_g:\n",
    "                merges += groups[g]\n",
    "            merges = list(set(merges))\n",
    "            new_groups = [merges]\n",
    "            for r in remain:\n",
    "                new_groups.append(groups[r])\n",
    "\n",
    "            groups = new_groups\n",
    "\n",
    "        if not b_collision:\n",
    "            groups.append([idx])\n",
    "    \n",
    "    return groups\n",
    "\n",
    "class CollisionLineMajor(object):\n",
    "    def __init__(self, line_threshold=1.0):\n",
    "        self.line_threshold = line_threshold\n",
    "        \n",
    "    def __call__(self, box1, box2):\n",
    "        x11, y11, x12, y12 = box1\n",
    "        x21, y21, x22, y22 = box2\n",
    "\n",
    "        height1 = x12 - x11\n",
    "        width1 = y12 - y11\n",
    "\n",
    "        height2 = x22 - x21\n",
    "        width2 = y22 - y21\n",
    "\n",
    "        union = min(x11, x21), min(y11, y21), max(x12, x22), max(y12, y22)\n",
    "        insec = max(x11, x21), max(y11, y21), min(x12, x22), min(y12, y22)\n",
    "\n",
    "        union_height = union[2] - union[0]\n",
    "        union_width = union[3] - union[1]\n",
    "\n",
    "        insec_height = insec[2] - insec[0] # x\n",
    "\n",
    "        # split the 密码区和关键信息区\n",
    "        return float(union_height) / (height2 + height1) < self.line_threshold"
   ]
  },
  {
   "cell_type": "code",
   "execution_count": null,
   "metadata": {
    "collapsed": true
   },
   "outputs": [],
   "source": [
    "import visualization"
   ]
  },
  {
   "cell_type": "code",
   "execution_count": null,
   "metadata": {
    "collapsed": true
   },
   "outputs": [],
   "source": [
    "from invorec import common"
   ]
  },
  {
   "cell_type": "code",
   "execution_count": null,
   "metadata": {
    "collapsed": true
   },
   "outputs": [],
   "source": [
    "import numpy as np"
   ]
  },
  {
   "cell_type": "code",
   "execution_count": null,
   "metadata": {
    "collapsed": true
   },
   "outputs": [],
   "source": [
    "def y_of_groups(boxes, groups):\n",
    "    return [np.min(boxes[g], axis=0)[0] for g in groups]\n",
    "def y_of_groups_2(boxes, groups):\n",
    "    return [np.min(boxes[g], axis=0)[2] for g in groups]"
   ]
  },
  {
   "cell_type": "code",
   "execution_count": null,
   "metadata": {
    "collapsed": true
   },
   "outputs": [],
   "source": [
    "def find_date_anchor(rclasses, rscores, rbboxes):\n",
    "    threshold = 0.91\n",
    "    sel = rscores > threshold\n",
    "\n",
    "    boxes = rbboxes[sel]\n",
    "    classes = rclasses[sel]\n",
    "    scores = rscores[sel]\n",
    "\n",
    "    left_top_idx = (boxes[:, 0] < 0.4) & (boxes[:, 1] > 0.6)\n",
    "\n",
    "    left_top_classes = classes[left_top_idx]\n",
    "    left_top_scores = scores[left_top_idx]\n",
    "    left_top_boxes = boxes[left_top_idx]\n",
    "    \n",
    "    # sel the top group\n",
    "    number_area_splitor = CollisionLineMajor(1.3)\n",
    "    groups = group_box_by_collision(left_top_boxes, number_area_splitor)\n",
    "    \n",
    "    ys = y_of_groups(left_top_boxes, groups)\n",
    "    y_idxs = np.argsort(ys)\n",
    "    \n",
    "    \n",
    "    sel_group_id = y_idxs[0]\n",
    "    # remove noise group on the top\n",
    "    for _idx in y_idxs:\n",
    "        if len(groups[_idx]) > 3:\n",
    "            sel_group_id = _idx\n",
    "            break\n",
    "    \n",
    "    top_group_classes = left_top_classes[groups[sel_group_id]]\n",
    "    top_group_scores = left_top_scores[groups[sel_group_id]]\n",
    "    top_group_boxes = left_top_boxes[groups[sel_group_id]]\n",
    "    \n",
    "    date_group_classes = top_group_classes[:]\n",
    "    date_group_scores = top_group_scores[:]\n",
    "    date_group_boxes = top_group_boxes[:]\n",
    "    \n",
    "    while True:\n",
    "        date_area_splitor = CollisionLineMajor(0.8)\n",
    "        groups = group_box_by_collision(date_group_boxes, date_area_splitor)\n",
    "        ys = y_of_groups_2(date_group_boxes, groups)\n",
    "        y_idxs = np.argsort(ys)\n",
    "\n",
    "        sel_group_id = y_idxs[-1]\n",
    "\n",
    "        date_group_classes = date_group_classes[groups[sel_group_id]]\n",
    "        date_group_scores = date_group_scores[groups[sel_group_id]]\n",
    "        date_group_boxes = date_group_boxes[groups[sel_group_id]]\n",
    "    \n",
    "        if len(date_group_boxes) < 4:\n",
    "            break\n",
    "        else:\n",
    "            order = np.argsort(date_group_scores)[::-1]\n",
    "            date_group_classes = date_group_classes[order][:-1]\n",
    "            date_group_scores = date_group_scores[order][:-1]\n",
    "            date_group_boxes = date_group_boxes[order][:-1]\n",
    "            \n",
    "    anchor_id = np.argmin([box[1] for box in date_group_boxes])\n",
    "    return [date_group_classes[anchor_id], date_group_scores[anchor_id], date_group_boxes[anchor_id]]"
   ]
  },
  {
   "cell_type": "code",
   "execution_count": null,
   "metadata": {
    "collapsed": true
   },
   "outputs": [],
   "source": [
    "def find_date_location(rclasses, rscores, rbboxes):\n",
    "    anchor_date = find_date_anchor(rclasses, rscores, rbboxes)\n",
    "    \n",
    "    y1, x1, y2, x2 = anchor_date[2]\n",
    "#     print(anchor_date)\n",
    "    # collision with anchor_date\n",
    "    anchor_date[2] = np.array([y1, x1+0.07, y2, x1 + 0.2])\n",
    "    \n",
    "    threshold = 0.85\n",
    "    sel = rscores > threshold\n",
    "\n",
    "    boxes = rbboxes[sel]\n",
    "    classes = rclasses[sel]\n",
    "    scores = rscores[sel]\n",
    "    \n",
    "    clm = CollisionLineMajor(0.8)\n",
    "    sel_date = [i for i, box in enumerate(boxes) if clm(box, anchor_date[2]) and collision_of_box(box, anchor_date[2]) and (box[0] < 0.4) and (box[1] > anchor_date[2][1])]\n",
    "    \n",
    "    boxes = boxes[sel_date]\n",
    "    scores = scores[sel_date]\n",
    "    classes = classes[sel_date]\n",
    "    \n",
    "    if len(sel_date) > 2:\n",
    "        sel = np.argsort(scores)[-2:]\n",
    "        boxes = boxes[sel]\n",
    "        scores =scores[sel]\n",
    "        classes = classes[sel]\n",
    "    \n",
    "    date_roi = [np.max(boxes[:, 0]), np.min(boxes[:, 1]), np.max(boxes[:, 2]), np.max(boxes[:,3])]\n",
    "    \n",
    "    # the width should be larger than 0.12\n",
    "    if date_roi[3] - date_roi[1] < 0.12:\n",
    "        date_roi[1] = date_roi[3] - 0.12 \n",
    "        \n",
    "    return date_roi, np.mean(scores)"
   ]
  },
  {
   "cell_type": "code",
   "execution_count": null,
   "metadata": {
    "collapsed": true
   },
   "outputs": [],
   "source": [
    "def find_code_location(rclasses, rscores, rbboxes):\n",
    "    threshold = 0.99\n",
    "    sel = rscores > threshold\n",
    "\n",
    "    boxes = rbboxes[sel]\n",
    "    classes = rclasses[sel]\n",
    "    scores = rscores[sel]\n",
    "    \n",
    "    sel = (boxes[:, 2] < 0.4) & (boxes[:, 3] < 0.4)\n",
    "    \n",
    "    boxes = boxes[sel]\n",
    "    classes = classes[sel]\n",
    "    scores = scores[sel]\n",
    "    \n",
    "    anchor_code = np.array([0.13, 0.25, 0.21, 0.33])\n",
    "    \n",
    "    sel = [i for i, box in enumerate(boxes) if collision_of_box(box, anchor_code)]\n",
    "    \n",
    "    boxes = boxes[sel]\n",
    "    classes = classes[sel]\n",
    "    scores = scores[sel]\n",
    "    \n",
    "    roi = [np.min(boxes[:, 0]), np.min(boxes[:, 1]), np.max(boxes[:, 2]), np.max(boxes[:,3])]\n",
    "    \n",
    "    if roi[3] - roi[1] < 0.15:\n",
    "        roi[1] = roi[3] - 0.15\n",
    "    \n",
    "    roi[0] -= 0.03\n",
    "    roi[2] += 0.03\n",
    "    roi[1] -= 0.01\n",
    "    roi[3] += 0.01\n",
    "    \n",
    "    return roi, np.mean(scores)"
   ]
  },
  {
   "cell_type": "code",
   "execution_count": null,
   "metadata": {
    "collapsed": true
   },
   "outputs": [],
   "source": [
    "def find_checkcode_location(rclasses, rscores, rbboxes, clip_img, code_roi, DEBUG=True):\n",
    "    threshold = 0.91\n",
    "    sel = rscores > threshold\n",
    "\n",
    "    boxes = rbboxes[sel]\n",
    "    classes = rclasses[sel]\n",
    "    scores = rscores[sel]\n",
    "    \n",
    "    sel = (boxes[:, 2] < 0.7) & (boxes[:, 3] < 0.45)\n",
    "    \n",
    "    boxes = boxes[sel]\n",
    "    classes = classes[sel]\n",
    "    scores = scores[sel]\n",
    "    \n",
    "    sel = (boxes[:, 0] > code_roi[2]) & (boxes[:, 1] > code_roi[1])\n",
    "    \n",
    "    boxes = boxes[sel]\n",
    "    classes = classes[sel]\n",
    "    scores = scores[sel]\n",
    "    \n",
    "    order = np.argsort(scores)[::-1]\n",
    "    \n",
    "    boxes = boxes[order]\n",
    "    classes = classes[order]\n",
    "    scores = scores[order]\n",
    "  \n",
    "    start_y = int(code_roi[0] * 300)\n",
    "    img_checkcode = cv2.cvtColor(clip_img[start_y:150, :450], cv2.COLOR_RGB2GRAY)\n",
    "    img_checkcode = cv2.GaussianBlur(img_checkcode, (5, 5), 0)\n",
    "    binary = cv2.Canny(img_checkcode, 10, 30, 0)\n",
    "\n",
    "    kernel = cv2.getStructuringElement(cv2.MORPH_RECT, (5, 5))\n",
    "    binary = cv2.morphologyEx(binary, cv2.MORPH_CLOSE, kernel)\n",
    "\n",
    "\n",
    "    lines = cv2.HoughLines(binary, 1, 1*np.pi/180, 200)\n",
    "    \n",
    "    rho,theta = lines[0][0]\n",
    "    print(theta * 180 / np.pi)\n",
    "    a = np.cos(theta)\n",
    "    b = np.sin(theta)\n",
    "    x0 = a*rho\n",
    "    y0 = b*rho\n",
    "\n",
    "    x1 = 0\n",
    "    y1 = int(a/b * x0 + y0)\n",
    "\n",
    "    x2 = binary.shape[1]\n",
    "    y2 = int(-a/b * (x2 - x0) + y0)\n",
    "\n",
    "    if DEBUG:\n",
    "        cv2.line(clip_img, (x1,start_y+y1), (x2,start_y+y2), (255, 0, 0))\n",
    "    \n",
    "    x1_n = x1 / 900.0\n",
    "    y1_n = (start_y+y1) / 300.0\n",
    "    \n",
    "    x2_n = x2 / 900.0\n",
    "    y2_n = (start_y+y2) / 300.0\n",
    "    \n",
    "    line_dir = np.array([y2_n - y1_n, x2_n - x1_n])\n",
    "    \n",
    "    sel = [i for i, box in enumerate(boxes) if np.cross((box[:2] + box[2:])/2 - np.array([y1_n, x1_n]), line_dir) < 0]    \n",
    "    \n",
    "    boxes = boxes[sel]\n",
    "    classes = classes[sel]\n",
    "    scores = scores[sel]\n",
    "    \n",
    "    sel = (boxes[:, 3] > code_roi[3])\n",
    "    \n",
    "    boxes = boxes[sel]\n",
    "    classes = classes[sel]\n",
    "    scores = scores[sel]\n",
    "    \n",
    "    order = np.argsort(scores)\n",
    "    boxes = boxes[order]\n",
    "    scores = scores[order]\n",
    "    \n",
    "    return (boxes[-1], scores[-1]) if len(boxes) else (None, None)"
   ]
  },
  {
   "cell_type": "code",
   "execution_count": null,
   "metadata": {
    "collapsed": true
   },
   "outputs": [],
   "source": [
    "def find_number_location(rclasses, rscores, rbboxes, date_roi, image, DEBUG=True):\n",
    "    threshold = 0.91\n",
    "    sel = rscores > threshold\n",
    "\n",
    "    boxes = rbboxes[sel]\n",
    "    classes = rclasses[sel]\n",
    "    scores = rscores[sel]\n",
    "    \n",
    "    anchor_number = np.array([date_roi[0] - 0.03, date_roi[3]- 0.02, date_roi[0]- 0.01, date_roi[3]+0.02]) \n",
    "    \n",
    "    if DEBUG:\n",
    "        height, width = image.shape[:2]\n",
    "        anchor_roi = (int(anchor_number[1]*width),\n",
    "                      int(anchor_number[0]*height), \n",
    "                      int(anchor_number[3]*width),\n",
    "                      int(anchor_number[2]*height))\n",
    "        print(anchor_roi)\n",
    "        cv2.rectangle(image, anchor_roi[:2], anchor_roi[2:], (255, 0, 0), 1)\n",
    "    \n",
    "    sel = [i for i, box in enumerate(boxes) if collision_of_box(box, anchor_number)]\n",
    "    \n",
    "    boxes = boxes[sel]\n",
    "    classes = classes[sel]\n",
    "    scores = scores[sel]\n",
    "    \n",
    "    order = np.argsort(scores)\n",
    "    boxes = boxes[order]\n",
    "    scores = scores[order]\n",
    "    \n",
    "    # extend length\n",
    "    if len(boxes) > 0:\n",
    "        boxes[-1][1] -= 0.02\n",
    "        boxes[-1][3] +=0.01\n",
    "    \n",
    "    return (boxes[-1], scores[-1]) if len(boxes) else (None, None)"
   ]
  },
  {
   "cell_type": "code",
   "execution_count": null,
   "metadata": {
    "collapsed": true
   },
   "outputs": [],
   "source": [
    "from invorec.detector_invoice import DetectorInvoice"
   ]
  },
  {
   "cell_type": "code",
   "execution_count": null,
   "metadata": {
    "collapsed": true
   },
   "outputs": [],
   "source": [
    "# dir_name = \"../../orientation_detection/data/output/vivo/\"\n",
    "dir_name = '/home/mobile/data/strange/'"
   ]
  },
  {
   "cell_type": "code",
   "execution_count": null,
   "metadata": {
    "scrolled": false
   },
   "outputs": [],
   "source": [
    "counter = 1\n",
    "for filename in os.listdir(dir_name)[0:]:\n",
    "    if os.path.splitext(filename)[1].lower() not in ['.jpg', '.jpeg']:\n",
    "        print(filename)\n",
    "        print(os.path.splitext(filename)[1].lower())\n",
    "        continue\n",
    "    print(\"{}, {}\".format(counter, filename))\n",
    "    counter +=1\n",
    "    path = os.path.join(dir_name, filename)\n",
    "    cvim = cv2.imread(path)\n",
    "    cvim = cv2.cvtColor(cvim, cv2.COLOR_BGR2RGB)\n",
    "    \n",
    "    invoice_image = DetectorInvoice.done(cvim)\n",
    "    if invoice_image is not None:\n",
    "        width = 900\n",
    "        ratio = float(width) / invoice_image.shape[1]\n",
    "        img = cv2.resize(invoice_image, (width, int(invoice_image.shape[0]*ratio)))\n",
    "        clip_width = 900\n",
    "        clip_img = common.clip_rect(img, (width - clip_width, 0, clip_width, 300))\n",
    "\n",
    "\n",
    "        rclasses, rscores, rbboxes =  process_image(clip_img)\n",
    "\n",
    "        date_roi, date_score = find_date_location(rclasses, rscores, rbboxes)\n",
    "        code_roi, code_score = find_code_location(rclasses, rscores, rbboxes)\n",
    "        checkcode_roi, checkcode_score = find_checkcode_location(rclasses, rscores, rbboxes, \n",
    "                                                                 clip_img, code_roi, DEBUG=False)\n",
    "        number_roi, number_score = find_number_location(rclasses, rscores, rbboxes, date_roi, clip_img)\n",
    "\n",
    "        selected_scores = [code_score, date_score, number_score]\n",
    "        selected_rois = [code_roi, date_roi, number_roi]\n",
    "#         selected_scores = [code_score, date_score]\n",
    "#         selected_rois = [code_roi, date_roi]\n",
    "        if checkcode_roi is not None:\n",
    "            selected_scores.append(checkcode_score)\n",
    "            selected_rois.append(checkcode_roi)\n",
    "\n",
    "\n",
    "#         visualization.plt_bboxes(clip_img, classes, \n",
    "#                                        scores, \n",
    "#                                        boxes, \n",
    "#                                        figsize=(30,30))\n",
    "    #     visualization.plt_bboxes(clip_img, np.array([1,2]), \n",
    "    #                                        np.array([0,0]), \n",
    "    #                                        np.array([anchor_date, anchor_number]), \n",
    "    #                                        figsize=(30,30))\n",
    "        visualization.plt_bboxes(clip_img, np.array(range(len(selected_rois))), \n",
    "                                       np.array(selected_scores), \n",
    "                                       np.array(selected_rois), \n",
    "                                       figsize=(30,30))"
   ]
  },
  {
   "cell_type": "code",
   "execution_count": null,
   "metadata": {
    "collapsed": true
   },
   "outputs": [],
   "source": []
  }
 ],
 "metadata": {
  "kernelspec": {
   "display_name": "Python 2",
   "language": "python",
   "name": "python2"
  },
  "language_info": {
   "codemirror_mode": {
    "name": "ipython",
    "version": 2
   },
   "file_extension": ".py",
   "mimetype": "text/x-python",
   "name": "python",
   "nbconvert_exporter": "python",
   "pygments_lexer": "ipython2",
   "version": "2.7.12"
  }
 },
 "nbformat": 4,
 "nbformat_minor": 2
}
