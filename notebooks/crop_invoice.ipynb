{
 "cells": [
  {
   "cell_type": "code",
   "execution_count": null,
   "metadata": {
    "collapsed": true
   },
   "outputs": [],
   "source": [
    "%matplotlib inline"
   ]
  },
  {
   "cell_type": "code",
   "execution_count": null,
   "metadata": {
    "collapsed": true
   },
   "outputs": [],
   "source": [
    "import matplotlib.pyplot as plt"
   ]
  },
  {
   "cell_type": "code",
   "execution_count": null,
   "metadata": {
    "collapsed": true
   },
   "outputs": [],
   "source": [
    "import cv2\n",
    "import numpy as np\n",
    "import os"
   ]
  },
  {
   "cell_type": "code",
   "execution_count": null,
   "metadata": {
    "collapsed": true
   },
   "outputs": [],
   "source": [
    "from invorec import common"
   ]
  },
  {
   "cell_type": "code",
   "execution_count": null,
   "metadata": {
    "collapsed": true
   },
   "outputs": [],
   "source": [
    "import time"
   ]
  },
  {
   "cell_type": "code",
   "execution_count": null,
   "metadata": {
    "collapsed": true
   },
   "outputs": [],
   "source": [
    "# dir_name = '/home/mobile/Documents/orientation_detection/data/test/inputs/vivo   1500/'\n",
    "# dir_name = '/home/mobile/data/invoices/2017-04-21/inputs/'\n",
    "# dir_name = '/home/mobile/data/invoice-edges/'\n",
    "dir_name = '/home/mobile/data/invoices/2017-04-27-ord/'"
   ]
  },
  {
   "cell_type": "code",
   "execution_count": null,
   "metadata": {
    "scrolled": false
   },
   "outputs": [],
   "source": [
    "# im = cv2.imread('/home/mobile/data/invoice-edges/-64r134oif4m7pcMw8XHZjYlVxubL-czG6CVv9zBMGW4O1JL8H7GLg_nk1g8hUBy(2).jpg')\n",
    "counter = 1\n",
    "for filename in os.listdir(dir_name)[0:]:\n",
    "    if os.path.splitext(filename)[1].lower() not in ['.jpg', '.jpeg']:\n",
    "        print(filename)\n",
    "        print(os.path.splitext(filename)[1].lower())\n",
    "        continue\n",
    "    print(counter)\n",
    "    counter +=1\n",
    "    path = os.path.join(dir_name, filename)\n",
    "    im = cv2.imread(path)\n",
    "    im = cv2.cvtColor(im, cv2.COLOR_BGR2RGB)\n",
    "\n",
    "    width = 900\n",
    "    ratio = float(width) / im.shape[1]\n",
    "    im = cv2.resize(im, (width, int(im.shape[0]*ratio)))\n",
    "    gray = cv2.cvtColor(im, cv2.COLOR_RGB2GRAY)\n",
    "\n",
    "    binary = cv2.adaptiveThreshold(\n",
    "                    gray, \n",
    "                    255, \n",
    "                    cv2.ADAPTIVE_THRESH_MEAN_C,\n",
    "                    cv2.THRESH_BINARY, 25, 8)\n",
    "    binary = cv2.bitwise_not(binary)\n",
    "    \n",
    "    \n",
    "    kernel = cv2.getStructuringElement(cv2.MORPH_RECT, (2, 2))\n",
    "    binary = cv2.morphologyEx(binary, cv2.MORPH_OPEN, kernel)\n",
    "\n",
    "    tmp = cv2.cvtColor(binary, cv2.COLOR_GRAY2RGB)\n",
    "    \n",
    "\n",
    "    _, contours, _ = cv2.findContours(binary, cv2.RETR_LIST, cv2.CHAIN_APPROX_SIMPLE)\n",
    "\n",
    "    for c in contours:\n",
    "        rect = cv2.boundingRect(c)\n",
    "        x,y,w,h = rect\n",
    "        rect_ratio = float(max(w,h))/min(w,h)\n",
    "        if (w < 30 or h < 30) or ( rect_ratio > 2):\n",
    "            pass\n",
    "        else:\n",
    "            rect = x,y,w,h\n",
    "            \n",
    "            roi_image = common.clip_rect(tmp, rect)\n",
    "            pos = np.where(roi_image)\n",
    "            pos_roi = np.array([[px, py] for px,py in zip(pos[1], pos[0])])\n",
    "            ellipse = cv2.fitEllipse(np.array(pos_roi))\n",
    "            mask = np.zeros_like(roi_image)\n",
    "            mask = cv2.ellipse(mask, ellipse, 255, 1)\n",
    "            mask = mask.astype(np.float) / 255\n",
    "            \n",
    "            mask_count = np.sum(mask[np.where(mask)])\n",
    "            image_mask_count = np.sum(roi_image[np.where(mask)]) / 255\n",
    "            image_count = np.sum(roi_image) /255\n",
    "#             print('mask count: {}'.format(mask_count))\n",
    "#             print('image mask count: {}'.format(image_mask_count))\n",
    "#             print('image count: {}'.format(image_count))\n",
    "            \n",
    "            prec = image_mask_count / mask_count\n",
    "            recall = image_mask_count / image_count\n",
    "            \n",
    "            print('precision: {}'.format(prec))\n",
    "            print('recall: {}'.format(recall))\n",
    "            \n",
    "            common.draw_rectangle_on_image(tmp, rect, (255, 0, 0), 2)\n",
    "            \n",
    "            if prec > 0.7:\n",
    "                pos = np.array([[px+x, py+y] for px,py in zip(pos[1], pos[0])])\n",
    "                ellipse = cv2.fitEllipse(np.array(pos))\n",
    "                \n",
    "                cv2.ellipse(tmp, ellipse, (0, 255, 0), 2)\n",
    "\n",
    "    plt.figure(figsize=(16,16))\n",
    "    plt.imshow(tmp)\n",
    "    plt.show()\n",
    "    time.sleep(1)"
   ]
  },
  {
   "cell_type": "code",
   "execution_count": null,
   "metadata": {
    "collapsed": true
   },
   "outputs": [],
   "source": [
    "count = 0\n",
    "while count < im.shape[0] - 40:\n",
    "    img_amount = cv2.cvtColor(im[count:count+50], cv2.COLOR_RGB2GRAY)\n",
    "    img_amount = cv2.GaussianBlur(img_amount, (5, 5), 0)\n",
    "    binary = cv2.Canny(img_amount, 5, 100, 0)\n",
    "\n",
    "    kernel = cv2.getStructuringElement(cv2.MORPH_RECT, (5, 5))\n",
    "    binary = cv2.morphologyEx(binary, cv2.MORPH_CLOSE, kernel)\n",
    "\n",
    "    lines = cv2.HoughLines(binary, 1, 1*np.pi/180, 600)\n",
    "    \n",
    "    if lines is not None and len(lines) > 0:\n",
    "        for l in lines:\n",
    "            rho,theta = l[0]\n",
    "            a = np.cos(theta)\n",
    "            b = np.sin(theta)+ 0.0001\n",
    "            x0 = a*rho\n",
    "            y0 = b*rho\n",
    "\n",
    "            x1 = 0\n",
    "            y1 = int(a/b * x0 + y0) + count\n",
    "\n",
    "            x2 = binary.shape[1]\n",
    "            y2 = int(-a/b * (x2 - x0) + y0) + count\n",
    "            \n",
    "            cv2.line(im, (x1,y1), (x2,y2), (255, 0, 0))\n",
    "            \n",
    "    count += 20"
   ]
  },
  {
   "cell_type": "code",
   "execution_count": null,
   "metadata": {
    "collapsed": true
   },
   "outputs": [],
   "source": [
    "plt.figure(figsize=(24, 16))\n",
    "plt.imshow(im, 'gray')"
   ]
  },
  {
   "cell_type": "code",
   "execution_count": null,
   "metadata": {
    "collapsed": true
   },
   "outputs": [],
   "source": []
  }
 ],
 "metadata": {
  "kernelspec": {
   "display_name": "Python 2",
   "language": "python",
   "name": "python2"
  },
  "language_info": {
   "codemirror_mode": {
    "name": "ipython",
    "version": 2
   },
   "file_extension": ".py",
   "mimetype": "text/x-python",
   "name": "python",
   "nbconvert_exporter": "python",
   "pygments_lexer": "ipython2",
   "version": "2.7.12"
  }
 },
 "nbformat": 4,
 "nbformat_minor": 2
}
